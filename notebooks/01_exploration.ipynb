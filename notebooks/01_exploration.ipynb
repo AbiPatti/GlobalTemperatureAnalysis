{
 "cells": [
  {
   "cell_type": "markdown",
   "id": "a02e4560",
   "metadata": {},
   "source": [
    "# Global Temperature Analysis\n",
    "Abinash Patti"
   ]
  },
  {
   "cell_type": "markdown",
   "id": "1f183e2a",
   "metadata": {},
   "source": [
    "### Objective\n",
    "Analyze global temperature data to identify global warming trends, regional anomolies, and seasonal patterns"
   ]
  },
  {
   "cell_type": "markdown",
   "id": "ab75d372",
   "metadata": {},
   "source": [
    "### Dataset\n",
    "Source: Berkeley Earth / Kaggle\n",
    "\n",
    "Files include temperature readings by city, country, and globally from 1750-2015"
   ]
  },
  {
   "cell_type": "code",
   "execution_count": 2,
   "id": "278cd7a2",
   "metadata": {},
   "outputs": [],
   "source": [
    "# Import libraries\n",
    "import pandas as pd\n",
    "import matplotlib.pyplot as plt"
   ]
  },
  {
   "cell_type": "code",
   "execution_count": null,
   "id": "5e184f69",
   "metadata": {},
   "outputs": [
    {
     "name": "stdout",
     "output_type": "stream",
     "text": [
      "<class 'pandas.core.frame.DataFrame'>\n",
      "RangeIndex: 577462 entries, 0 to 577461\n",
      "Data columns (total 4 columns):\n",
      " #   Column                         Non-Null Count   Dtype  \n",
      "---  ------                         --------------   -----  \n",
      " 0   dt                             577462 non-null  object \n",
      " 1   AverageTemperature             544811 non-null  float64\n",
      " 2   AverageTemperatureUncertainty  545550 non-null  float64\n",
      " 3   Country                        577462 non-null  object \n",
      "dtypes: float64(2), object(2)\n",
      "memory usage: 17.6+ MB\n"
     ]
    },
    {
     "data": {
      "text/html": [
       "<div>\n",
       "<style scoped>\n",
       "    .dataframe tbody tr th:only-of-type {\n",
       "        vertical-align: middle;\n",
       "    }\n",
       "\n",
       "    .dataframe tbody tr th {\n",
       "        vertical-align: top;\n",
       "    }\n",
       "\n",
       "    .dataframe thead th {\n",
       "        text-align: right;\n",
       "    }\n",
       "</style>\n",
       "<table border=\"1\" class=\"dataframe\">\n",
       "  <thead>\n",
       "    <tr style=\"text-align: right;\">\n",
       "      <th></th>\n",
       "      <th>dt</th>\n",
       "      <th>AverageTemperature</th>\n",
       "      <th>AverageTemperatureUncertainty</th>\n",
       "      <th>Country</th>\n",
       "    </tr>\n",
       "  </thead>\n",
       "  <tbody>\n",
       "    <tr>\n",
       "      <th>0</th>\n",
       "      <td>1743-11-01</td>\n",
       "      <td>4.384</td>\n",
       "      <td>2.294</td>\n",
       "      <td>Åland</td>\n",
       "    </tr>\n",
       "    <tr>\n",
       "      <th>1</th>\n",
       "      <td>1743-12-01</td>\n",
       "      <td>NaN</td>\n",
       "      <td>NaN</td>\n",
       "      <td>Åland</td>\n",
       "    </tr>\n",
       "    <tr>\n",
       "      <th>2</th>\n",
       "      <td>1744-01-01</td>\n",
       "      <td>NaN</td>\n",
       "      <td>NaN</td>\n",
       "      <td>Åland</td>\n",
       "    </tr>\n",
       "    <tr>\n",
       "      <th>3</th>\n",
       "      <td>1744-02-01</td>\n",
       "      <td>NaN</td>\n",
       "      <td>NaN</td>\n",
       "      <td>Åland</td>\n",
       "    </tr>\n",
       "    <tr>\n",
       "      <th>4</th>\n",
       "      <td>1744-03-01</td>\n",
       "      <td>NaN</td>\n",
       "      <td>NaN</td>\n",
       "      <td>Åland</td>\n",
       "    </tr>\n",
       "  </tbody>\n",
       "</table>\n",
       "</div>"
      ],
      "text/plain": [
       "           dt  AverageTemperature  AverageTemperatureUncertainty Country\n",
       "0  1743-11-01               4.384                          2.294   Åland\n",
       "1  1743-12-01                 NaN                            NaN   Åland\n",
       "2  1744-01-01                 NaN                            NaN   Åland\n",
       "3  1744-02-01                 NaN                            NaN   Åland\n",
       "4  1744-03-01                 NaN                            NaN   Åland"
      ]
     },
     "execution_count": 3,
     "metadata": {},
     "output_type": "execute_result"
    }
   ],
   "source": [
    "# Load GlobalLandTemperaturesByCountry into a DataFrame\n",
    "df_global_land_temps_country = pd.read_csv(\"../data/GlobalLandTemperaturesByCountry.csv\")\n",
    "\n",
    "# Display the info and first few rows\n",
    "df_global_land_temps_country.info()\n",
    "df_global_land_temps_country.head()"
   ]
  },
  {
   "cell_type": "markdown",
   "id": "254fd61c",
   "metadata": {},
   "source": [
    "### Average Temperature Summaries"
   ]
  },
  {
   "cell_type": "code",
   "execution_count": 16,
   "id": "150dff85",
   "metadata": {},
   "outputs": [
    {
     "name": "stdout",
     "output_type": "stream",
     "text": [
      "Mean temperature (1750 - 2015):  17.19\n",
      "Standard deviation (1750 - 2015):  10.95\n",
      "Highest temperature:  38.84\n",
      "Lowest temperature:  -37.66\n"
     ]
    }
   ],
   "source": [
    "# Find special summaries\n",
    "mean_temp = df_global_land_temps_country[\"AverageTemperature\"].mean()\n",
    "std_temp = df_global_land_temps_country[\"AverageTemperature\"].std()\n",
    "\n",
    "max_temp = df_global_land_temps_country[\"AverageTemperature\"].max()\n",
    "min_temp = df_global_land_temps_country[\"AverageTemperature\"].min()\n",
    "\n",
    "max_temp_row = df_global_land_temps_country[df_global_land_temps_country[\"AverageTemperature\"] == max_temp]\n",
    "min_temp_row = df_global_land_temps_country[df_global_land_temps_country[\"AverageTemperature\"] == min_temp]\n",
    "\n",
    "# Display\n",
    "print(\"Mean temperature (1750 - 2015): \", round(mean_temp, 2))\n",
    "print(\"Standard deviation (1750 - 2015): \", round(std_temp, 2))\n",
    "print(\"Highest temperature: \", round(max_temp, 2))\n",
    "print(\"Lowest temperature: \", round(min_temp, 2))"
   ]
  },
  {
   "cell_type": "code",
   "execution_count": 21,
   "id": "6a027f12",
   "metadata": {},
   "outputs": [
    {
     "data": {
      "text/html": [
       "<div>\n",
       "<style scoped>\n",
       "    .dataframe tbody tr th:only-of-type {\n",
       "        vertical-align: middle;\n",
       "    }\n",
       "\n",
       "    .dataframe tbody tr th {\n",
       "        vertical-align: top;\n",
       "    }\n",
       "\n",
       "    .dataframe thead th {\n",
       "        text-align: right;\n",
       "    }\n",
       "</style>\n",
       "<table border=\"1\" class=\"dataframe\">\n",
       "  <thead>\n",
       "    <tr style=\"text-align: right;\">\n",
       "      <th></th>\n",
       "      <th>dt</th>\n",
       "      <th>AverageTemperature</th>\n",
       "      <th>AverageTemperatureUncertainty</th>\n",
       "      <th>Country</th>\n",
       "      <th>Year</th>\n",
       "    </tr>\n",
       "  </thead>\n",
       "  <tbody>\n",
       "    <tr>\n",
       "      <th>0</th>\n",
       "      <td>1743-11-01</td>\n",
       "      <td>4.384</td>\n",
       "      <td>2.294</td>\n",
       "      <td>Åland</td>\n",
       "      <td>1743</td>\n",
       "    </tr>\n",
       "    <tr>\n",
       "      <th>1</th>\n",
       "      <td>1743-12-01</td>\n",
       "      <td>NaN</td>\n",
       "      <td>NaN</td>\n",
       "      <td>Åland</td>\n",
       "      <td>1743</td>\n",
       "    </tr>\n",
       "    <tr>\n",
       "      <th>2</th>\n",
       "      <td>1744-01-01</td>\n",
       "      <td>NaN</td>\n",
       "      <td>NaN</td>\n",
       "      <td>Åland</td>\n",
       "      <td>1744</td>\n",
       "    </tr>\n",
       "    <tr>\n",
       "      <th>3</th>\n",
       "      <td>1744-02-01</td>\n",
       "      <td>NaN</td>\n",
       "      <td>NaN</td>\n",
       "      <td>Åland</td>\n",
       "      <td>1744</td>\n",
       "    </tr>\n",
       "    <tr>\n",
       "      <th>4</th>\n",
       "      <td>1744-03-01</td>\n",
       "      <td>NaN</td>\n",
       "      <td>NaN</td>\n",
       "      <td>Åland</td>\n",
       "      <td>1744</td>\n",
       "    </tr>\n",
       "  </tbody>\n",
       "</table>\n",
       "</div>"
      ],
      "text/plain": [
       "          dt  AverageTemperature  AverageTemperatureUncertainty Country  Year\n",
       "0 1743-11-01               4.384                          2.294   Åland  1743\n",
       "1 1743-12-01                 NaN                            NaN   Åland  1743\n",
       "2 1744-01-01                 NaN                            NaN   Åland  1744\n",
       "3 1744-02-01                 NaN                            NaN   Åland  1744\n",
       "4 1744-03-01                 NaN                            NaN   Åland  1744"
      ]
     },
     "execution_count": 21,
     "metadata": {},
     "output_type": "execute_result"
    }
   ],
   "source": [
    "# Convert dt col to datetime\n",
    "df_global_land_temps_country[\"dt\"] = pd.to_datetime(df_global_land_temps_country[\"dt\"])\n",
    "\n",
    "# Extract year to new column\n",
    "df_global_land_temps_country[\"Year\"] = df_global_land_temps_country[\"dt\"].dt.year\n",
    "\n",
    "# Confirm with head\n",
    "df_global_land_temps_country.head()"
   ]
  },
  {
   "cell_type": "markdown",
   "id": "8a767772",
   "metadata": {},
   "source": [
    "### Extreme Temperatures by Country"
   ]
  },
  {
   "cell_type": "code",
   "execution_count": null,
   "id": "b0aa88f2",
   "metadata": {},
   "outputs": [
    {
     "name": "stdout",
     "output_type": "stream",
     "text": [
      "<pandas.core.groupby.generic.DataFrameGroupBy object at 0x0000021E2E801E00>\n"
     ]
    }
   ],
   "source": [
    "# Group by country\n",
    "df_country_group = df_global_land_temps_country.groupby(\"Country\")\n",
    "\n",
    "# List to hold summary\n",
    "list_summary_extreme_temps = []\n"
   ]
  }
 ],
 "metadata": {
  "kernelspec": {
   "display_name": "Python 3",
   "language": "python",
   "name": "python3"
  },
  "language_info": {
   "codemirror_mode": {
    "name": "ipython",
    "version": 3
   },
   "file_extension": ".py",
   "mimetype": "text/x-python",
   "name": "python",
   "nbconvert_exporter": "python",
   "pygments_lexer": "ipython3",
   "version": "3.13.7"
  }
 },
 "nbformat": 4,
 "nbformat_minor": 5
}
