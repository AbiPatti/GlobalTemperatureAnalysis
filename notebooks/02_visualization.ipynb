{
 "cells": [
  {
   "cell_type": "markdown",
   "id": "7b65dac4",
   "metadata": {},
   "source": [
    "# Global Temperature Analysis - Visualization\n",
    "Abinash Patti"
   ]
  },
  {
   "cell_type": "code",
   "execution_count": 4,
   "id": "f5809b16",
   "metadata": {},
   "outputs": [],
   "source": [
    "# Import libraries and summary statistics\n",
    "import matplotlib.pyplot as plt\n",
    "import pandas as pd"
   ]
  },
  {
   "cell_type": "code",
   "execution_count": 5,
   "id": "2dcea9c8",
   "metadata": {},
   "outputs": [
    {
     "name": "stdout",
     "output_type": "stream",
     "text": [
      "<class 'pandas.core.frame.DataFrame'>\n",
      "RangeIndex: 242 entries, 0 to 241\n",
      "Data columns (total 5 columns):\n",
      " #   Column       Non-Null Count  Dtype  \n",
      "---  ------       --------------  -----  \n",
      " 0   Country      242 non-null    object \n",
      " 1   HottestYear  242 non-null    int64  \n",
      " 2   HottestTemp  242 non-null    float64\n",
      " 3   ColdestYear  242 non-null    int64  \n",
      " 4   ColdestTemp  242 non-null    float64\n",
      "dtypes: float64(2), int64(2), object(1)\n",
      "memory usage: 9.6+ KB\n"
     ]
    },
    {
     "data": {
      "text/html": [
       "<div>\n",
       "<style scoped>\n",
       "    .dataframe tbody tr th:only-of-type {\n",
       "        vertical-align: middle;\n",
       "    }\n",
       "\n",
       "    .dataframe tbody tr th {\n",
       "        vertical-align: top;\n",
       "    }\n",
       "\n",
       "    .dataframe thead th {\n",
       "        text-align: right;\n",
       "    }\n",
       "</style>\n",
       "<table border=\"1\" class=\"dataframe\">\n",
       "  <thead>\n",
       "    <tr style=\"text-align: right;\">\n",
       "      <th></th>\n",
       "      <th>Country</th>\n",
       "      <th>HottestYear</th>\n",
       "      <th>HottestTemp</th>\n",
       "      <th>ColdestYear</th>\n",
       "      <th>ColdestTemp</th>\n",
       "    </tr>\n",
       "  </thead>\n",
       "  <tbody>\n",
       "    <tr>\n",
       "      <th>0</th>\n",
       "      <td>Afghanistan</td>\n",
       "      <td>1997</td>\n",
       "      <td>28.533</td>\n",
       "      <td>2008</td>\n",
       "      <td>-4.553</td>\n",
       "    </tr>\n",
       "    <tr>\n",
       "      <th>1</th>\n",
       "      <td>Africa</td>\n",
       "      <td>2010</td>\n",
       "      <td>27.126</td>\n",
       "      <td>1861</td>\n",
       "      <td>19.523</td>\n",
       "    </tr>\n",
       "    <tr>\n",
       "      <th>2</th>\n",
       "      <td>Albania</td>\n",
       "      <td>1757</td>\n",
       "      <td>25.843</td>\n",
       "      <td>1942</td>\n",
       "      <td>-2.049</td>\n",
       "    </tr>\n",
       "    <tr>\n",
       "      <th>3</th>\n",
       "      <td>Algeria</td>\n",
       "      <td>2003</td>\n",
       "      <td>35.829</td>\n",
       "      <td>1813</td>\n",
       "      <td>9.526</td>\n",
       "    </tr>\n",
       "    <tr>\n",
       "      <th>4</th>\n",
       "      <td>American Samoa</td>\n",
       "      <td>2003</td>\n",
       "      <td>28.543</td>\n",
       "      <td>1915</td>\n",
       "      <td>24.712</td>\n",
       "    </tr>\n",
       "  </tbody>\n",
       "</table>\n",
       "</div>"
      ],
      "text/plain": [
       "          Country  HottestYear  HottestTemp  ColdestYear  ColdestTemp\n",
       "0     Afghanistan         1997       28.533         2008       -4.553\n",
       "1          Africa         2010       27.126         1861       19.523\n",
       "2         Albania         1757       25.843         1942       -2.049\n",
       "3         Algeria         2003       35.829         1813        9.526\n",
       "4  American Samoa         2003       28.543         1915       24.712"
      ]
     },
     "execution_count": 5,
     "metadata": {},
     "output_type": "execute_result"
    }
   ],
   "source": [
    "# Load extreme temperature summary\n",
    "df_summary_extreme_temps = pd.read_csv(\"../data/analysis/ExtremeTemperaturesByCountry.csv\")\n",
    "\n",
    "# Display info and head\n",
    "df_summary_extreme_temps.info()\n",
    "df_summary_extreme_temps.head()"
   ]
  }
 ],
 "metadata": {
  "kernelspec": {
   "display_name": "Python 3",
   "language": "python",
   "name": "python3"
  },
  "language_info": {
   "codemirror_mode": {
    "name": "ipython",
    "version": 3
   },
   "file_extension": ".py",
   "mimetype": "text/x-python",
   "name": "python",
   "nbconvert_exporter": "python",
   "pygments_lexer": "ipython3",
   "version": "3.13.7"
  }
 },
 "nbformat": 4,
 "nbformat_minor": 5
}
